{
 "cells": [
  {
   "cell_type": "code",
   "execution_count": 1,
   "id": "fd334fee-1d46-4086-9d4f-cf2dbce5aafd",
   "metadata": {},
   "outputs": [],
   "source": [
    "import sqlite3\n",
    "import pandas as pd\n",
    "\n",
    "# Read data from CSV file into a Pandas DataFrame\n",
    "df = pd.read_csv(r'C:\\Users\\new\\OneDrive - St. Clair College\\Spring2024\\DAB111_002_python\\Final_project\\Python_Project\\transactions.csv')\n",
    "\n",
    "# Connect to SQLite database (or create it if it doesn't exist)\n",
    "conn = sqlite3.connect('tansactions.db')\n",
    "\n",
    "# Insert data into SQLite table\n",
    "df.to_sql('tansactions', conn, if_exists='replace', index=False)\n",
    "\n",
    "# Close the connection\n",
    "conn.close()"
   ]
  },
  {
   "cell_type": "code",
   "execution_count": 2,
   "id": "73367cc9-6b41-40ad-aff6-e53b9a949cf8",
   "metadata": {},
   "outputs": [
    {
     "name": "stdout",
     "output_type": "stream",
     "text": [
      "                          Transaction ID       Timestamp        Sender Name  \\\n",
      "0   4d3db980-46cd-4158-a812-dcb77055d0d2   22-06-24 4:06          Tiya Mall   \n",
      "1   099ee548-2fc1-4811-bf92-559c467ca792   19-06-24 6:04    Mohanlal Bakshi   \n",
      "2   d4c05732-6b1b-4bab-90b9-efe09d252b99   04-06-24 4:56        Kismat Bora   \n",
      "3   e8df92ee-8b04-4133-af5a-5f412180c8ab   09-06-24 9:56      Ayesha Korpal   \n",
      "4   e7d675d3-04f1-419c-a841-7a04662560b7   25-06-24 8:38        Jivin Batta   \n",
      "5   865cfff6-e345-4bae-a4ed-2c35c3a67fc7  17-06-24 11:24        Kismat Rama   \n",
      "6   10b78cb6-0a05-429a-8cf5-7ac40b97cd37  24-06-24 20:15          Ivana Tak   \n",
      "7   2582bdc0-4ea3-4a92-8329-72cd84b429f6  23-06-24 13:01        Sara Khanna   \n",
      "8   9a981fdf-f953-4fc6-8a7d-bfc26f1ea4dc   30-06-24 8:43         Anvi Dalal   \n",
      "9   718cebcd-cec3-49d5-a24b-d4f6df6ca25f   24-06-24 9:15          Rasha Das   \n",
      "10  f7392e11-52b1-49b0-8da8-e71128d99808  05-06-24 18:39     Sumer Chandran   \n",
      "11  35f5cee7-d7a2-42a7-b94f-1d3e54b0bd2e  17-06-24 17:16     Raghav Sridhar   \n",
      "12  71ef7fd4-ea73-432e-9f9d-23ce85d33048  28-06-24 18:08  Nirvaan Zachariah   \n",
      "13  24159fef-1532-4cef-baf2-a5270e6e61e0  28-06-24 21:06         Rohan Gola   \n",
      "14  00dd618c-2382-462d-88c5-869eb096094f  06-06-24 16:30        Eshani Bail   \n",
      "15  9a986a12-b24f-4269-9ec8-5b4c73212d05   25-06-24 0:44        Prisha Hora   \n",
      "16  ea5862f0-0edf-4490-976a-958e9799a21c   24-06-24 4:52         Eshani Ram   \n",
      "17  299a7bf0-12e0-4f32-85bd-ae7f4ac7af90  07-06-24 22:14        Nitara Yogi   \n",
      "18  c03ec1e5-e536-43b4-bf71-71fa84fc4b91  20-06-24 14:07       Raunak Jaggi   \n",
      "19  7eddc148-8755-4901-b31d-8ba5ee895860   01-07-24 3:57       Rati Sawhney   \n",
      "\n",
      "            Sender UPI ID   Receiver Name        Receiver UPI ID  \\\n",
      "0       4161803452@okaxis  Mohanlal Golla       7776849307@okybl   \n",
      "1       8908837379@okaxis  Mehul Sankaran      7683454560@okaxis   \n",
      "2        4633654150@okybl       Diya Goel     2598130823@okicici   \n",
      "3   7018842771@okhdfcbank    Rhea Kothari      2246623650@okaxis   \n",
      "4        1977143985@okybl     Baiju Issac       5245672729@okybl   \n",
      "5      5438757524@okicici      Pihu Walia     7567741566@okicici   \n",
      "6       0518391082@okaxis    Ehsaan Baria  2677492476@okhdfcbank   \n",
      "7        8203474864@oksbi       Tiya Virk       9427710364@oksbi   \n",
      "8   8893886778@okhdfcbank        Pari Lal      0762409234@okaxis   \n",
      "9      3530841200@okicici     Advik Mahal       2825774999@oksbi   \n",
      "10       2881077862@oksbi  Amira Yohannan     3359034997@okicici   \n",
      "11  5240349344@okhdfcbank     Shayak Jain      0884485131@okaxis   \n",
      "12  1391606006@okhdfcbank   Ranbir Shukla     6956979142@okicici   \n",
      "13  2532387543@okhdfcbank     Gatik Khare     0523734464@okicici   \n",
      "14       5552406857@okybl     Kabir Wagle       7164137631@okybl   \n",
      "15      6719880414@okaxis      Krish Toor       1855834514@okybl   \n",
      "16     3559104422@okicici  Dhanush Tailor  2606165966@okhdfcbank   \n",
      "17  6536690172@okhdfcbank     Nitya Balay     8821754441@okicici   \n",
      "18       4135909907@oksbi     Neysa Salvi     1977155980@okicici   \n",
      "19       0595448518@oksbi    Drishya Bava       8231626532@okybl   \n",
      "\n",
      "    Amount (INR)   Status  \n",
      "0        3907.34   FAILED  \n",
      "1        8404.55  SUCCESS  \n",
      "2         941.88  SUCCESS  \n",
      "3        8926.00  SUCCESS  \n",
      "4        2800.55  SUCCESS  \n",
      "5        1865.15  SUCCESS  \n",
      "6        4829.13  SUCCESS  \n",
      "7        4680.11   FAILED  \n",
      "8        1563.30   FAILED  \n",
      "9        6248.55  SUCCESS  \n",
      "10       1272.55   FAILED  \n",
      "11       5465.41   FAILED  \n",
      "12       5858.65  SUCCESS  \n",
      "13       4246.53  SUCCESS  \n",
      "14       6305.80  SUCCESS  \n",
      "15       5564.58   FAILED  \n",
      "16        262.72  SUCCESS  \n",
      "17        151.42   FAILED  \n",
      "18       3787.73   FAILED  \n",
      "19       2675.65  SUCCESS  \n"
     ]
    }
   ],
   "source": [
    "# Define the path to the SQLite database\n",
    "database_path = 'transactions.db'\n",
    "\n",
    "# Connect to the SQLite database\n",
    "conn = sqlite3.connect(database_path)\n",
    "\n",
    "# Query to select the first 20 rows from the diabetes table\n",
    "basic_query = 'SELECT * FROM transactions LIMIT 20'\n",
    "\n",
    "# Read the data into a Pandas DataFrame\n",
    "df = pd.read_sql_query(basic_query, conn)\n",
    "\n",
    "# Display the first 20 rows of the DataFrame\n",
    "print(df)\n",
    "\n",
    "# Close the database connection\n",
    "conn.close()"
   ]
  },
  {
   "cell_type": "code",
   "execution_count": 3,
   "id": "a836ab6c-39e8-4365-8f54-929353370f17",
   "metadata": {
    "scrolled": true
   },
   "outputs": [],
   "source": [
    "from flask import Flask, render_template_string, render_template\n",
    "from werkzeug.serving import run_simple\n",
    "import pandas as pd\n",
    "\n",
    "app = Flask(__name__)\n",
    "\n",
    "# Database connection\n",
    "def get_db_connection():\n",
    "    conn = sqlite3.connect('transactions.db')\n",
    "    conn.row_factory = sqlite3.Row\n",
    "    return conn\n",
    "\n",
    "# Route for the home page\n",
    "@app.route('/')\n",
    "def index():\n",
    "    return render_template('index.html')\n",
    "\n",
    "# Route for the about page\n",
    "@app.route('/about')\n",
    "def about():\n",
    "    return render_template('about.html')\n",
    "\n",
    "# Route to display data\n",
    "@app.route('/data')\n",
    "def data():\n",
    "    conn = get_db_connection()\n",
    "    df = pd.read_sql_query('SELECT * FROM transactions', conn)\n",
    "    conn.close()\n",
    "    return render_template('data.html', tables=df.to_html(classes='data', header=\"true\"))\n",
    "\n"
   ]
  },
  {
   "cell_type": "code",
   "execution_count": null,
   "id": "ff49e247-a805-4c43-adb5-779ca9d70ab8",
   "metadata": {},
   "outputs": [
    {
     "name": "stderr",
     "output_type": "stream",
     "text": [
      "WARNING: This is a development server. Do not use it in a production deployment. Use a production WSGI server instead.\n",
      " * Running on http://localhost:8000\n",
      "Press CTRL+C to quit\n",
      "127.0.0.1 - - [21/Jul/2024 17:25:48] \"GET / HTTP/1.1\" 200 -\n",
      "127.0.0.1 - - [21/Jul/2024 17:26:30] \"GET /data HTTP/1.1\" 200 -\n",
      "127.0.0.1 - - [21/Jul/2024 17:26:41] \"GET /about HTTP/1.1\" 200 -\n"
     ]
    }
   ],
   "source": [
    "# Run the Flask app\n",
    "run_simple('localhost',8000,app,use_reloader=False, use_debugger=False)"
   ]
  }
 ],
 "metadata": {
  "kernelspec": {
   "display_name": "Python 3 (ipykernel)",
   "language": "python",
   "name": "python3"
  },
  "language_info": {
   "codemirror_mode": {
    "name": "ipython",
    "version": 3
   },
   "file_extension": ".py",
   "mimetype": "text/x-python",
   "name": "python",
   "nbconvert_exporter": "python",
   "pygments_lexer": "ipython3",
   "version": "3.11.7"
  }
 },
 "nbformat": 4,
 "nbformat_minor": 5
}
